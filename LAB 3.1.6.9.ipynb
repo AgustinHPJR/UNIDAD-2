{
 "cells": [
  {
   "cell_type": "markdown",
   "metadata": {},
   "source": [
    "## AGUSTIN HERNANDEZ PEREZ\n",
    "\n",
    "## Operando con listas - conceptos basicos"
   ]
  },
  {
   "cell_type": "code",
   "execution_count": 1,
   "metadata": {},
   "outputs": [
    {
     "name": "stdout",
     "output_type": "stream",
     "text": [
      "La lista solo con los elementos unicos:\n",
      "[1, 2, 4, 6, 9]\n"
     ]
    }
   ],
   "source": [
    "Milista = [1, 2, 4, 4, 1, 4, 2, 6, 2, 9]\n",
    "for i in range(len(Milista)-1, -1, -1):\n",
    "    if Milista[i] in Milista[:i]:\n",
    "        del(Milista[i])\n",
    "print(\"La lista solo con los elementos unicos:\")\n",
    "print(Milista)"
   ]
  }
 ],
 "metadata": {
  "kernelspec": {
   "display_name": "Python 3",
   "language": "python",
   "name": "python3"
  },
  "language_info": {
   "codemirror_mode": {
    "name": "ipython",
    "version": 3
   },
   "file_extension": ".py",
   "mimetype": "text/x-python",
   "name": "python",
   "nbconvert_exporter": "python",
   "pygments_lexer": "ipython3",
   "version": "3.8.3"
  }
 },
 "nbformat": 4,
 "nbformat_minor": 4
}
